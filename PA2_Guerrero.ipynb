{
 "cells": [
  {
   "cell_type": "code",
   "execution_count": 1,
   "id": "7d344fe0-a4a7-40a4-b48c-9016b50f1feb",
   "metadata": {},
   "outputs": [],
   "source": [
    "import numpy as np"
   ]
  },
  {
   "cell_type": "code",
   "execution_count": 7,
   "id": "6233309e-d86e-43d1-a776-ef212719ae27",
   "metadata": {},
   "outputs": [],
   "source": [
    "#Problem 1: Normalization problem\n",
    "\n",
    "x = np.random.random((5,5))"
   ]
  },
  {
   "cell_type": "code",
   "execution_count": 12,
   "id": "fdfe4c63-0462-4260-8937-75d285b625e2",
   "metadata": {},
   "outputs": [],
   "source": [
    "x_normalized = (x-x.mean()) /np.std(x)"
   ]
  },
  {
   "cell_type": "code",
   "execution_count": 9,
   "id": "7e4229b4-5e60-44a7-958d-5ab3e51a3458",
   "metadata": {},
   "outputs": [],
   "source": [
    "np.save(\"x_normalized.npy\", x_normalized)"
   ]
  },
  {
   "cell_type": "code",
   "execution_count": 11,
   "id": "87d68599-45c2-4973-b3ba-a7ac1316356d",
   "metadata": {},
   "outputs": [
    {
     "name": "stdout",
     "output_type": "stream",
     "text": [
      "Original x (5x5):\n",
      " [[0.75928255 0.88237251 0.35442043 0.3574337  0.2011563 ]\n",
      " [0.34524322 0.84892154 0.18081599 0.97527632 0.73563713]\n",
      " [0.97226582 0.70754737 0.15784472 0.46789611 0.20060062]\n",
      " [0.8409555  0.05335254 0.0844473  0.74892317 0.22149244]\n",
      " [0.85802114 0.87897624 0.76228927 0.89606919 0.41144278]]\n"
     ]
    }
   ],
   "source": [
    "print (\"Original x (5x5):\\n\",x)"
   ]
  },
  {
   "cell_type": "code",
   "execution_count": 13,
   "id": "96b5aab2-c08a-46d6-9591-be96b94191f2",
   "metadata": {},
   "outputs": [
    {
     "name": "stdout",
     "output_type": "stream",
     "text": [
      "\n",
      "Normalized x:\n",
      " [[ 0.65551726  1.05265035 -0.65071555 -0.64099365 -1.14520152]\n",
      " [-0.6803246   0.94472531 -1.21082677  1.35239191  0.5792285 ]\n",
      " [ 1.34267894  0.4886007  -1.28494046 -0.28460165 -1.14699435]\n",
      " [ 0.91902398 -1.62207036 -1.52174732  0.62209411 -1.07958971]\n",
      " [ 0.97408395  1.04169273  0.66521804  1.09684084 -0.46674067]]\n"
     ]
    }
   ],
   "source": [
    "print (\"\\nNormalized x:\\n\", x_normalized)"
   ]
  },
  {
   "cell_type": "code",
   "execution_count": 15,
   "id": "3892ba10-88b0-451f-9a3b-2045dd353084",
   "metadata": {},
   "outputs": [],
   "source": [
    "#Problem 2: Divisible by 3 problem\n",
    "\n",
    "a = np.arange(1,101) ** 2"
   ]
  },
  {
   "cell_type": "code",
   "execution_count": 22,
   "id": "ae1ee973-d1b6-4f0d-b119-7adc0a95ae6a",
   "metadata": {},
   "outputs": [],
   "source": [
    "a = a.reshape(10,10)"
   ]
  },
  {
   "cell_type": "code",
   "execution_count": 17,
   "id": "bd80a6c3-aaa9-4058-9df3-fef2892269ee",
   "metadata": {},
   "outputs": [],
   "source": [
    "div_by_3 = a[a%3==0]"
   ]
  },
  {
   "cell_type": "code",
   "execution_count": 25,
   "id": "c00f5021-edfc-42f4-b322-12ec0e37dd18",
   "metadata": {},
   "outputs": [],
   "source": [
    "np.save(\"div_by_3.npy\", div_by_3)"
   ]
  },
  {
   "cell_type": "code",
   "execution_count": 26,
   "id": "fe76042a-9a58-45da-8374-b00f42099c12",
   "metadata": {},
   "outputs": [
    {
     "name": "stdout",
     "output_type": "stream",
     "text": [
      "\n",
      "10x10 Array of Squares (a):\n",
      " [[    1     4     9    16    25    36    49    64    81   100]\n",
      " [  121   144   169   196   225   256   289   324   361   400]\n",
      " [  441   484   529   576   625   676   729   784   841   900]\n",
      " [  961  1024  1089  1156  1225  1296  1369  1444  1521  1600]\n",
      " [ 1681  1764  1849  1936  2025  2116  2209  2304  2401  2500]\n",
      " [ 2601  2704  2809  2916  3025  3136  3249  3364  3481  3600]\n",
      " [ 3721  3844  3969  4096  4225  4356  4489  4624  4761  4900]\n",
      " [ 5041  5184  5329  5476  5625  5776  5929  6084  6241  6400]\n",
      " [ 6561  6724  6889  7056  7225  7396  7569  7744  7921  8100]\n",
      " [ 8281  8464  8649  8836  9025  9216  9409  9604  9801 10000]]\n"
     ]
    }
   ],
   "source": [
    "print (\"\\n10x10 Array of Squares (a):\\n\",a)"
   ]
  },
  {
   "cell_type": "code",
   "execution_count": 27,
   "id": "564a94c6-8d42-4dd2-9a93-312aadc8d1b5",
   "metadata": {},
   "outputs": [
    {
     "name": "stdout",
     "output_type": "stream",
     "text": [
      "\n",
      "Elements Divisible by 3:\n",
      " [   9   36   81  144  225  324  441  576  729  900 1089 1296 1521 1764\n",
      " 2025 2304 2601 2916 3249 3600 3969 4356 4761 5184 5625 6084 6561 7056\n",
      " 7569 8100 8649 9216 9801]\n"
     ]
    }
   ],
   "source": [
    "print (\"\\nElements Divisible by 3:\\n\",div_by_3)"
   ]
  }
 ],
 "metadata": {
  "kernelspec": {
   "display_name": "Python [conda env:base] *",
   "language": "python",
   "name": "conda-base-py"
  },
  "language_info": {
   "codemirror_mode": {
    "name": "ipython",
    "version": 3
   },
   "file_extension": ".py",
   "mimetype": "text/x-python",
   "name": "python",
   "nbconvert_exporter": "python",
   "pygments_lexer": "ipython3",
   "version": "3.13.5"
  }
 },
 "nbformat": 4,
 "nbformat_minor": 5
}
